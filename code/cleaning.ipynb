{
 "cells": [
  {
   "cell_type": "markdown",
   "id": "39f506a8-1d92-4d4b-a213-f3133d49de08",
   "metadata": {},
   "source": [
    "# Data Cleaning\n",
    "Let's go ahead and jump right into the data and see what we find here fresh off the scraping press!"
   ]
  },
  {
   "cell_type": "code",
   "execution_count": 1,
   "id": "7f594f09-b9d0-410d-88e5-d85d93294cb1",
   "metadata": {},
   "outputs": [],
   "source": [
    "# imports\n",
    "import pandas as pd\n",
    "import numpy as np"
   ]
  },
  {
   "cell_type": "code",
   "execution_count": 2,
   "id": "f7620f9a-293c-44dd-8ae4-1d412158d8bb",
   "metadata": {},
   "outputs": [
    {
     "name": "stdout",
     "output_type": "stream",
     "text": [
      "r/oddlysatisfying shape:  (99971, 4)\n",
      "r/mildlyinfuriating shape (99983, 4)\n"
     ]
    }
   ],
   "source": [
    "# read in our data\n",
    "odd_df = pd.read_csv('../data/oddlysatisfying.csv')\n",
    "mild_df = pd.read_csv('../data/mildlyinfuriating.csv')\n",
    "print ('r/oddlysatisfying shape: ',odd_df.shape)\n",
    "print ('r/mildlyinfuriating shape' ,mild_df.shape)"
   ]
  },
  {
   "cell_type": "markdown",
   "id": "6b1b0347-1c06-448e-8899-14c8ae3fe41b",
   "metadata": {},
   "source": [
    "## Check for sheNaNigans\n",
    "First off lets check for null values that may have come in during data collection."
   ]
  },
  {
   "cell_type": "code",
   "execution_count": 3,
   "id": "62fdd6de-1796-4f68-9220-929ca9f19624",
   "metadata": {},
   "outputs": [
    {
     "data": {
      "text/plain": [
       "author         0\n",
       "body           1\n",
       "created_utc    0\n",
       "subreddit      0\n",
       "dtype: int64"
      ]
     },
     "execution_count": 3,
     "metadata": {},
     "output_type": "execute_result"
    }
   ],
   "source": [
    "# check nulls from oddlysatisfying data\n",
    "odd_df.isna().sum()"
   ]
  },
  {
   "cell_type": "code",
   "execution_count": 4,
   "id": "298437fc-c084-4857-aee5-27c7ce374c86",
   "metadata": {},
   "outputs": [
    {
     "data": {
      "text/html": [
       "<div>\n",
       "<style scoped>\n",
       "    .dataframe tbody tr th:only-of-type {\n",
       "        vertical-align: middle;\n",
       "    }\n",
       "\n",
       "    .dataframe tbody tr th {\n",
       "        vertical-align: top;\n",
       "    }\n",
       "\n",
       "    .dataframe thead th {\n",
       "        text-align: right;\n",
       "    }\n",
       "</style>\n",
       "<table border=\"1\" class=\"dataframe\">\n",
       "  <thead>\n",
       "    <tr style=\"text-align: right;\">\n",
       "      <th></th>\n",
       "      <th>author</th>\n",
       "      <th>body</th>\n",
       "      <th>created_utc</th>\n",
       "      <th>subreddit</th>\n",
       "    </tr>\n",
       "  </thead>\n",
       "  <tbody>\n",
       "    <tr>\n",
       "      <th>37990</th>\n",
       "      <td>MrKotlet</td>\n",
       "      <td>NaN</td>\n",
       "      <td>1634504344</td>\n",
       "      <td>oddlysatisfying</td>\n",
       "    </tr>\n",
       "  </tbody>\n",
       "</table>\n",
       "</div>"
      ],
      "text/plain": [
       "         author body  created_utc        subreddit\n",
       "37990  MrKotlet  NaN   1634504344  oddlysatisfying"
      ]
     },
     "execution_count": 4,
     "metadata": {},
     "output_type": "execute_result"
    }
   ],
   "source": [
    "# looks like we have a single null value. Let's take a look at it and see if there's anything particularly interesting about it\n",
    "odd_df[odd_df['body'].isna() == True]"
   ]
  },
  {
   "cell_type": "code",
   "execution_count": 5,
   "id": "3f30b329-ed4c-4980-a9b3-3e3fe1dd473a",
   "metadata": {},
   "outputs": [
    {
     "data": {
      "text/plain": [
       "author         0\n",
       "body           0\n",
       "created_utc    0\n",
       "subreddit      0\n",
       "dtype: int64"
      ]
     },
     "execution_count": 5,
     "metadata": {},
     "output_type": "execute_result"
    }
   ],
   "source": [
    "# check nulls from mildlyinfuriating data\n",
    "mild_df.isna().sum()"
   ]
  },
  {
   "cell_type": "markdown",
   "id": "2767064a-52cf-40bd-ad65-b572d93e564c",
   "metadata": {},
   "source": [
    "Looks like there wasn't much missing in our data at first glance. We'll likely create more nulls when we clean up our comments so we won't do anything with our single null value just yet."
   ]
  },
  {
   "cell_type": "markdown",
   "id": "c7ab3130-6fd8-43a2-b0f1-2a03e23d7927",
   "metadata": {},
   "source": [
    "## First looks at common comments\n",
    "Next we'll check for our most frequent matching comments are and see what they look like in our data."
   ]
  },
  {
   "cell_type": "code",
   "execution_count": 6,
   "id": "f32ff73e-8e20-4772-8fa1-15821ab4e7bf",
   "metadata": {},
   "outputs": [
    {
     "data": {
      "text/plain": [
       "[deleted]                                                                                                                                                                                                                        2774\n",
       "[removed]                                                                                                                                                                                                                        2075\n",
       "u/savevideo                                                                                                                                                                                                                       570\n",
       "u/savevideobot                                                                                                                                                                                                                    125\n",
       "This is great                                                                                                                                                                                                                     124\n",
       "                                                                                                                                                                                                                                 ... \n",
       "We once had to use the orange paint stripper to get some epoxy grout Haze out of some subway tile worst job I have ever been involved in 🤣 that shit got all over my hands and it felt like my arms where on fire for a while       1\n",
       "What’s up Gambit?                                                                                                                                                                                                                   1\n",
       "Outfit on fleek, music on fleek, moves on fleek, fleek.                                                                                                                                                                             1\n",
       "So many landmasses to choose from with your description                                                                                                                                                                             1\n",
       "nah bro he lagging                                                                                                                                                                                                                  1\n",
       "Name: body, Length: 89650, dtype: int64"
      ]
     },
     "execution_count": 6,
     "metadata": {},
     "output_type": "execute_result"
    }
   ],
   "source": [
    "#check for repeat comments in oddlysatisfying\n",
    "odd_df['body'].value_counts()"
   ]
  },
  {
   "cell_type": "code",
   "execution_count": 7,
   "id": "0f9f8c3c-3062-453e-90e2-89089cc58a7f",
   "metadata": {},
   "outputs": [
    {
     "data": {
      "text/plain": [
       "[removed]    2532\n",
       "[deleted]    1990\n",
       "Name: body, dtype: int64"
      ]
     },
     "execution_count": 7,
     "metadata": {},
     "output_type": "execute_result"
    }
   ],
   "source": [
    "#check for repeat comments in mildlyinfuriating\n",
    "mild_df['body'].value_counts()[:2]"
   ]
  },
  {
   "cell_type": "markdown",
   "id": "621fce89-c92b-4a3c-b3d8-5d8b103828ae",
   "metadata": {},
   "source": [
    "Deleted and removed comments don't seem like they are going to be great indicators since they are similarly present between both datasets. Lets go ahead and convert them to nulls and drop them for now. We also have some \\n characters that need to be dealt with and some links (embedded and otherwise) that don't help us much when trying to determine where the comments have come from."
   ]
  },
  {
   "cell_type": "code",
   "execution_count": 8,
   "id": "e7aca451-4f49-438d-a48a-32fda367a958",
   "metadata": {},
   "outputs": [
    {
     "data": {
      "text/html": [
       "<div>\n",
       "<style scoped>\n",
       "    .dataframe tbody tr th:only-of-type {\n",
       "        vertical-align: middle;\n",
       "    }\n",
       "\n",
       "    .dataframe tbody tr th {\n",
       "        vertical-align: top;\n",
       "    }\n",
       "\n",
       "    .dataframe thead th {\n",
       "        text-align: right;\n",
       "    }\n",
       "</style>\n",
       "<table border=\"1\" class=\"dataframe\">\n",
       "  <thead>\n",
       "    <tr style=\"text-align: right;\">\n",
       "      <th></th>\n",
       "      <th>author</th>\n",
       "      <th>body</th>\n",
       "      <th>created_utc</th>\n",
       "      <th>subreddit</th>\n",
       "      <th>contains link</th>\n",
       "    </tr>\n",
       "  </thead>\n",
       "  <tbody>\n",
       "    <tr>\n",
       "      <th>141</th>\n",
       "      <td>circ_le_jerk_69</td>\n",
       "      <td>https://www.reddit.com/r/todayilearned/comment...</td>\n",
       "      <td>1635374639</td>\n",
       "      <td>oddlysatisfying</td>\n",
       "      <td>1</td>\n",
       "    </tr>\n",
       "    <tr>\n",
       "      <th>152</th>\n",
       "      <td>BusyBusyBizzy</td>\n",
       "      <td>https://www.youtube.com/watch?v=IVEISV-AaJc\\r ...</td>\n",
       "      <td>1635374403</td>\n",
       "      <td>oddlysatisfying</td>\n",
       "      <td>1</td>\n",
       "    </tr>\n",
       "    <tr>\n",
       "      <th>320</th>\n",
       "      <td>Lucifang</td>\n",
       "      <td>[Mr Squiggle](https://m.youtube.com/watch?v=Hw...</td>\n",
       "      <td>1635369834</td>\n",
       "      <td>oddlysatisfying</td>\n",
       "      <td>1</td>\n",
       "    </tr>\n",
       "    <tr>\n",
       "      <th>381</th>\n",
       "      <td>BusyBusyBizzy</td>\n",
       "      <td>from u/artmanee\\r  \\n\\r  \\nhttps://vm.tiktok.c...</td>\n",
       "      <td>1635368401</td>\n",
       "      <td>oddlysatisfying</td>\n",
       "      <td>1</td>\n",
       "    </tr>\n",
       "    <tr>\n",
       "      <th>391</th>\n",
       "      <td>Aries2203</td>\n",
       "      <td>Usually means someone who is overly fussy or p...</td>\n",
       "      <td>1635368004</td>\n",
       "      <td>oddlysatisfying</td>\n",
       "      <td>1</td>\n",
       "    </tr>\n",
       "  </tbody>\n",
       "</table>\n",
       "</div>"
      ],
      "text/plain": [
       "              author                                               body  \\\n",
       "141  circ_le_jerk_69  https://www.reddit.com/r/todayilearned/comment...   \n",
       "152    BusyBusyBizzy  https://www.youtube.com/watch?v=IVEISV-AaJc\\r ...   \n",
       "320         Lucifang  [Mr Squiggle](https://m.youtube.com/watch?v=Hw...   \n",
       "381    BusyBusyBizzy  from u/artmanee\\r  \\n\\r  \\nhttps://vm.tiktok.c...   \n",
       "391        Aries2203  Usually means someone who is overly fussy or p...   \n",
       "\n",
       "     created_utc        subreddit  contains link  \n",
       "141   1635374639  oddlysatisfying              1  \n",
       "152   1635374403  oddlysatisfying              1  \n",
       "320   1635369834  oddlysatisfying              1  \n",
       "381   1635368401  oddlysatisfying              1  \n",
       "391   1635368004  oddlysatisfying              1  "
      ]
     },
     "execution_count": 8,
     "metadata": {},
     "output_type": "execute_result"
    }
   ],
   "source": [
    "# examples from oddlysatisfying\n",
    "odd_df['contains link'] = [1 if 'http' in str(value) else 0 for value in odd_df['body']]\n",
    "odd_df[odd_df['contains link'] == 1].head()"
   ]
  },
  {
   "cell_type": "code",
   "execution_count": 9,
   "id": "090dc39e-c29a-4096-a985-631ac344aa55",
   "metadata": {},
   "outputs": [
    {
     "data": {
      "text/html": [
       "<div>\n",
       "<style scoped>\n",
       "    .dataframe tbody tr th:only-of-type {\n",
       "        vertical-align: middle;\n",
       "    }\n",
       "\n",
       "    .dataframe tbody tr th {\n",
       "        vertical-align: top;\n",
       "    }\n",
       "\n",
       "    .dataframe thead th {\n",
       "        text-align: right;\n",
       "    }\n",
       "</style>\n",
       "<table border=\"1\" class=\"dataframe\">\n",
       "  <thead>\n",
       "    <tr style=\"text-align: right;\">\n",
       "      <th></th>\n",
       "      <th>author</th>\n",
       "      <th>body</th>\n",
       "      <th>created_utc</th>\n",
       "      <th>subreddit</th>\n",
       "      <th>contains link</th>\n",
       "    </tr>\n",
       "  </thead>\n",
       "  <tbody>\n",
       "    <tr>\n",
       "      <th>114</th>\n",
       "      <td>ducktheRedditapp</td>\n",
       "      <td>Or get a soda stealing suit\\n\\nhttps://youtu.b...</td>\n",
       "      <td>1635374745</td>\n",
       "      <td>mildlyinfuriating</td>\n",
       "      <td>1</td>\n",
       "    </tr>\n",
       "    <tr>\n",
       "      <th>130</th>\n",
       "      <td>darnbot</td>\n",
       "      <td>What a ***darn*** shame...\\n\\n---\\n^^DarnCount...</td>\n",
       "      <td>1635374691</td>\n",
       "      <td>mildlyinfuriating</td>\n",
       "      <td>1</td>\n",
       "    </tr>\n",
       "    <tr>\n",
       "      <th>131</th>\n",
       "      <td>RamboGoesMeow</td>\n",
       "      <td>[I prefer child size cups.](https://youtu.be/I...</td>\n",
       "      <td>1635374690</td>\n",
       "      <td>mildlyinfuriating</td>\n",
       "      <td>1</td>\n",
       "    </tr>\n",
       "    <tr>\n",
       "      <th>232</th>\n",
       "      <td>Midcenturybirdhouse</td>\n",
       "      <td>That's rookie numbers, friend. If you're going...</td>\n",
       "      <td>1635374194</td>\n",
       "      <td>mildlyinfuriating</td>\n",
       "      <td>1</td>\n",
       "    </tr>\n",
       "    <tr>\n",
       "      <th>267</th>\n",
       "      <td>strikeout44</td>\n",
       "      <td>So I did a little research. It’s illegal, acco...</td>\n",
       "      <td>1635374030</td>\n",
       "      <td>mildlyinfuriating</td>\n",
       "      <td>1</td>\n",
       "    </tr>\n",
       "  </tbody>\n",
       "</table>\n",
       "</div>"
      ],
      "text/plain": [
       "                  author                                               body  \\\n",
       "114     ducktheRedditapp  Or get a soda stealing suit\\n\\nhttps://youtu.b...   \n",
       "130              darnbot  What a ***darn*** shame...\\n\\n---\\n^^DarnCount...   \n",
       "131        RamboGoesMeow  [I prefer child size cups.](https://youtu.be/I...   \n",
       "232  Midcenturybirdhouse  That's rookie numbers, friend. If you're going...   \n",
       "267          strikeout44  So I did a little research. It’s illegal, acco...   \n",
       "\n",
       "     created_utc          subreddit  contains link  \n",
       "114   1635374745  mildlyinfuriating              1  \n",
       "130   1635374691  mildlyinfuriating              1  \n",
       "131   1635374690  mildlyinfuriating              1  \n",
       "232   1635374194  mildlyinfuriating              1  \n",
       "267   1635374030  mildlyinfuriating              1  "
      ]
     },
     "execution_count": 9,
     "metadata": {},
     "output_type": "execute_result"
    }
   ],
   "source": [
    "# examples from mildlyinfuriating\n",
    "mild_df['contains link'] = [1 if 'http' in value else 0 for value in mild_df['body']]\n",
    "mild_df[mild_df['contains link'] == 1].head()"
   ]
  },
  {
   "cell_type": "code",
   "execution_count": 10,
   "id": "e7e80ce9-c722-4fce-ae46-c5b48dd0d8b8",
   "metadata": {},
   "outputs": [],
   "source": [
    "#removing columns that were added for example purposes\n",
    "odd_df.drop(columns='contains link',inplace=True)\n",
    "mild_df.drop(columns='contains link',inplace=True)"
   ]
  },
  {
   "cell_type": "markdown",
   "id": "72c73df7-6baf-4368-941f-b2f52ccffd02",
   "metadata": {},
   "source": [
    "Since comments may contain multiple links I designed a recursive function which detects if a link is present and then sends the second half of the string back into the function to check for more links."
   ]
  },
  {
   "cell_type": "code",
   "execution_count": 11,
   "id": "bee47f6e-0c10-4067-9e72-41929bf646ad",
   "metadata": {},
   "outputs": [],
   "source": [
    "#recursive function to find all instances of embeded links in a comment\n",
    "def embeded_link_cleaner(text):\n",
    "    if '](' in text:\n",
    "        # separates the text based on the first indicator and sends the second half back in to find additional links\n",
    "        text = text[:text.index('](')+1] + embeded_link_cleaner(text[text.index('](')+1:]) \n",
    "        \n",
    "        #find all text before and after the (https://...)\n",
    "        pre_link = text[:text.index('](')+1]\n",
    "        post_link = text[text[text.index('](')+1:].index(')')+len(pre_link)+1:] # text[text.index('](')+1:].index(')') returns the length of the (https://...) portion\n",
    "        \n",
    "        # return the text without the embedded link\n",
    "        return (pre_link + post_link).replace('[','').replace(']','')\n",
    "    else:\n",
    "        # if there are no embeded links just return the input text\n",
    "        return text"
   ]
  },
  {
   "cell_type": "code",
   "execution_count": 12,
   "id": "1783dc7c-db22-4972-8527-1d3492c78cb0",
   "metadata": {},
   "outputs": [],
   "source": [
    "# removes all link and \\n instances from every value in a pandas series\n",
    "def comment_cleaner(series):\n",
    "    \n",
    "    clean_series = []\n",
    "        \n",
    "    for value in series:\n",
    "        # clean out all embedded links and replace new line args with spaces\n",
    "        value = embeded_link_cleaner(str(value)).replace('\\n',' ')\n",
    "        \n",
    "        # set values that contain no actual language information to nulls\n",
    "        if value in ['[deleted]','[removed]','[Update]']:\n",
    "            value = np.NaN\n",
    "        \n",
    "        # remove non embedded links\n",
    "        if 'https' in str(value):\n",
    "            value_list = value.split(' ')\n",
    "            \n",
    "            if len(value_list) <= 1:\n",
    "                value = np.NaN\n",
    "            else:\n",
    "                value = ' '.join([word for word in value_list if 'https' not in word])          \n",
    "        \n",
    "        clean_series.append(value)\n",
    "        \n",
    "    return clean_series"
   ]
  },
  {
   "cell_type": "markdown",
   "id": "c5fafebb-e51e-46a4-b26b-a907c85a4fbf",
   "metadata": {},
   "source": [
    "Since we've made our cleaning instruments lets scrub up our data!"
   ]
  },
  {
   "cell_type": "code",
   "execution_count": 13,
   "id": "5539fbc5-6f10-4876-ac38-5b9d6719c8f2",
   "metadata": {},
   "outputs": [
    {
     "name": "stdout",
     "output_type": "stream",
     "text": [
      "(94899, 4) 0\n",
      "(95272, 4) 0\n"
     ]
    }
   ],
   "source": [
    "# send both dataframes in for cleaning\n",
    "odd_df['body'] = comment_cleaner(odd_df['body'])\n",
    "mild_df['body'] = comment_cleaner(mild_df['body'])\n",
    "\n",
    "# drop any nulls that resulted from the collection and cleaning process\n",
    "odd_df.dropna(inplace=True)\n",
    "mild_df.dropna(inplace=True)\n",
    "\n",
    "# check the shape of our cleaned data sets and verify nulls have been cleaned out\n",
    "print (odd_df.shape,odd_df.isna().sum().sum())\n",
    "print (mild_df.shape, mild_df.isna().sum().sum())"
   ]
  },
  {
   "cell_type": "markdown",
   "id": "56212b58-2b9a-4d7a-ab8a-03a9361e12cb",
   "metadata": {},
   "source": [
    "It looks like we did lose a small chunk from our original collection. We'll likely have to trim down even further due to computational constraints later so it won't be an issue here!\n",
    "\n",
    "Let's save our work so we can start looking for patterns in our data!"
   ]
  },
  {
   "cell_type": "code",
   "execution_count": 14,
   "id": "b44b41c9-7535-4353-be7a-e0b9a7d2d65f",
   "metadata": {},
   "outputs": [],
   "source": [
    "# export dataframes into .csv files for use in other notebooks\n",
    "odd_df.to_csv('../data/satisfyingly_clean.csv', index=False)\n",
    "mild_df.to_csv('../data/infuriatingly_clean.csv',index=False)"
   ]
  },
  {
   "cell_type": "code",
   "execution_count": null,
   "id": "abf8d11b-1445-4393-802e-b4b8e8985d68",
   "metadata": {},
   "outputs": [],
   "source": []
  }
 ],
 "metadata": {
  "kernelspec": {
   "display_name": "Python 3",
   "language": "python",
   "name": "python3"
  },
  "language_info": {
   "codemirror_mode": {
    "name": "ipython",
    "version": 3
   },
   "file_extension": ".py",
   "mimetype": "text/x-python",
   "name": "python",
   "nbconvert_exporter": "python",
   "pygments_lexer": "ipython3",
   "version": "3.8.8"
  }
 },
 "nbformat": 4,
 "nbformat_minor": 5
}
